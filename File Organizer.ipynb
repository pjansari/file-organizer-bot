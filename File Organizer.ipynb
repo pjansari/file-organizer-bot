{
 "cells": [
  {
   "cell_type": "markdown",
   "id": "e26fe3c4-cb05-4b84-a4bf-70081c661ffe",
   "metadata": {},
   "source": [
    "# File Organizer Bot!\n",
    "## Automating File Organization with Python"
   ]
  },
  {
   "cell_type": "code",
   "execution_count": null,
   "id": "f3f9aff8-610c-467a-a591-84786cea9158",
   "metadata": {},
   "outputs": [],
   "source": [
    "# Pre-defined categories.\n",
    "#Add file extension based on zour needs.\n",
    "FILE_CATEGORIES = {\n",
    "    \"Images\": [\".jpg\", \".jpeg\", \".png\", \".gif\"],\n",
    "    \"Documents\": [\".pdf\", \".docx\", \".txt\", \".csv\"],\n",
    "    \"Videos\": [\".mp4\", \".avi\", \".mkv\"],\n",
    "    \"Music\": [\".mp3\", \".wav\"],\n",
    "    \"Archives\": [\".zip\", \".rar\", \".tar\"],\n",
    "    \"Executables\": [\".exe\", \".sh\", \".bat\"]\n",
    "}\n",
    "\n",
    "def organize_files(directory):\n",
    "    \"\"\"\n",
    "    Organizes files in the given directory into categorized folders.\n",
    "    \n",
    "    Parameters:\n",
    "        directory (str): The path of the directory to organize.\n",
    "    \n",
    "    Returns:\n",
    "        None\n",
    "    \"\"\"\n",
    "    if not os.path.exists(directory):\n",
    "        print(f\"Directory '{directory}' not found!\")\n",
    "        return\n",
    "\n",
    "    for file in os.listdir(directory):\n",
    "        file_path = os.path.join(directory, file)\n",
    "        \n",
    "        if os.path.isdir(file_path):  # Ignores directories\n",
    "            continue\n",
    "\n",
    "        _, ext = os.path.splitext(file)  # Gets file extension\n",
    "        ext = ext.lower()\n",
    "\n",
    "        for category, extensions in FILE_CATEGORIES.items(): # Finds to which category, the file belongs to.\n",
    "            if ext in extensions:\n",
    "                category_path = os.path.join(directory, category)\n",
    "                \n",
    "                if not os.path.exists(category_path):  # Creates category folder if not exists\n",
    "                    os.makedirs(category_path)\n",
    "\n",
    "                shutil.move(file_path, os.path.join(category_path, file)) # Moves the file.\n",
    "                print(f\"Moved {file} → {category}/\")\n",
    "                break\n",
    "\n",
    "if __name__ == \"__main__\":\n",
    "    target_directory = input(\"Enter the directory path organize: \")\n",
    "    organize_files(target_directory)\n",
    "    print(\"Organization has been successfully completed!\")\n"
   ]
  }
 ],
 "metadata": {
  "kernelspec": {
   "display_name": "Python 3 (ipykernel)",
   "language": "python",
   "name": "python3"
  },
  "language_info": {
   "codemirror_mode": {
    "name": "ipython",
    "version": 3
   },
   "file_extension": ".py",
   "mimetype": "text/x-python",
   "name": "python",
   "nbconvert_exporter": "python",
   "pygments_lexer": "ipython3",
   "version": "3.12.7"
  }
 },
 "nbformat": 4,
 "nbformat_minor": 5
}
